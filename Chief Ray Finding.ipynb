{
 "cells": [
  {
   "cell_type": "code",
   "execution_count": 1,
   "metadata": {},
   "outputs": [],
   "source": [
    "%matplotlib ipympl"
   ]
  },
  {
   "cell_type": "code",
   "execution_count": 2,
   "metadata": {},
   "outputs": [],
   "source": [
    "# initialization\n",
    "from rayoptics.environment import *\n",
    "from rayoptics.raytr import trace"
   ]
  },
  {
   "cell_type": "code",
   "execution_count": 3,
   "metadata": {},
   "outputs": [],
   "source": [
    "from numpy.linalg import norm\n",
    "from scipy.optimize import minimize_scalar, bracket, bisect, fsolve, newton"
   ]
  },
  {
   "cell_type": "code",
   "execution_count": 4,
   "metadata": {},
   "outputs": [],
   "source": [
    "root_pth = Path(rayoptics.__file__).resolve().parent"
   ]
  },
  {
   "cell_type": "code",
   "execution_count": 5,
   "metadata": {},
   "outputs": [],
   "source": [
    "app = AppManager(None)"
   ]
  },
  {
   "cell_type": "markdown",
   "metadata": {},
   "source": [
    "# Create a new model"
   ]
  },
  {
   "cell_type": "code",
   "execution_count": 6,
   "metadata": {},
   "outputs": [
    {
     "name": "stdout",
     "output_type": "stream",
     "text": [
      "opm.ro_version='0.9.5'\n"
     ]
    }
   ],
   "source": [
    "app.model = open_model(root_pth/\"codev/tests/ag_dblgauss.seq\")\n",
    "opm = app.model\n",
    "sm  = opm['seq_model']\n",
    "osp = opm['optical_spec']\n",
    "pm = opm['parax_model']\n",
    "em = opm['ele_model']\n",
    "pt = opm['part_tree']\n",
    "ar = opm['analysis_results']\n",
    "print(f\"{opm.ro_version=}\")"
   ]
  },
  {
   "cell_type": "code",
   "execution_count": 7,
   "metadata": {},
   "outputs": [],
   "source": [
    "opm.update_model()"
   ]
  },
  {
   "cell_type": "code",
   "execution_count": 8,
   "metadata": {},
   "outputs": [
    {
     "name": "stdout",
     "output_type": "stream",
     "text": [
      "              c            t        medium     mode   zdr      sd\n",
      "  Obj:     0.000000  9.93938e+11       air             1  2.4782e+11\n",
      "    1:     0.017793      8.75000    N-SSK2             1      28.172\n",
      "    2:     0.006567     0.500000       air             1      27.136\n",
      "    3:     0.026537      12.5000     N-SK2             1      24.626\n",
      "    4:     0.000000      3.80000        F5             1      22.894\n",
      "    5:     0.041269      16.3694       air             1      17.293\n",
      " Stop:     0.000000      13.7480       air             1      15.758\n",
      "    7:    -0.035239      3.80000        F5             1      15.135\n",
      "    8:     0.000000      11.0000    N-SK16             1      17.250\n",
      "    9:    -0.026368     0.500000       air             1      18.926\n",
      "   10:     0.005637      7.00000    N-SK16             1      20.349\n",
      "   11:    -0.012593      61.4875       air             1      20.776\n",
      "  Img:     0.000000      0.00000                       1      24.739\n"
     ]
    }
   ],
   "source": [
    "sm.list_model()"
   ]
  },
  {
   "cell_type": "code",
   "execution_count": 9,
   "metadata": {},
   "outputs": [],
   "source": [
    "stop = sm.stop_surface"
   ]
  },
  {
   "cell_type": "code",
   "execution_count": 10,
   "metadata": {},
   "outputs": [],
   "source": [
    "def y_stop_coordinate(y1, *args):\n",
    "    seq_model, ifcx, pt0, dist, wvl, target = args\n",
    "    pt1 = np.array([0., y1, dist])\n",
    "    dir0 = pt1 - pt0\n",
    "    length = norm(dir0)\n",
    "    dir0 = dir0/length\n",
    "    ray, _, _ = rt.trace(seq_model, pt0, dir0, wvl)\n",
    "    y_ray = ray[ifcx][mc.p][1]\n",
    "    print(y1, y_ray)\n",
    "    return y_ray - target"
   ]
  },
  {
   "cell_type": "code",
   "execution_count": 11,
   "metadata": {},
   "outputs": [],
   "source": [
    "def surface_coordinate(coord, *args):\n",
    "    seq_model, ifcx, pt0, dist, wvl, target = args\n",
    "    pt1 = np.array([coord[0], coord[1], dist])\n",
    "    dir0 = pt1 - pt0\n",
    "    length = norm(dir0)\n",
    "    dir0 = dir0/length\n",
    "    ray, _, _ = rt.trace(seq_model, pt0, dir0, wvl)\n",
    "    xy_ray = np.array([ray[ifcx][mc.p][0], ray[ifcx][mc.p][1]])\n",
    "    print(coord[0], coord[1], xy_ray[0], xy_ray[1])\n",
    "    return xy_ray - target"
   ]
  },
  {
   "cell_type": "raw",
   "metadata": {},
   "source": [
    "# Newton-Raphson method\n",
    "import warnings\n",
    "def newton(func, x0, fprime=None, args=(), tol=1.48e-8, maxiter=50,\n",
    "           fprime2=None):\n",
    "    \"\"\"\n",
    "    Find a zero using the Newton-Raphson or secant method.\n",
    "\n",
    "    Find a zero of the function `func` given a nearby starting point `x0`.\n",
    "    The Newton-Raphson method is used if the derivative `fprime` of `func`\n",
    "    is provided, otherwise the secant method is used.  If the second order\n",
    "    derivative `fprime2` of `func` is provided, then Halley's method is used.\n",
    "\n",
    "    Parameters\n",
    "    ----------\n",
    "    func : function\n",
    "        The function whose zero is wanted. It must be a function of a\n",
    "        single variable of the form f(x,a,b,c...), where a,b,c... are extra\n",
    "        arguments that can be passed in the `args` parameter.\n",
    "    x0 : float\n",
    "        An initial estimate of the zero that should be somewhere near the\n",
    "        actual zero.\n",
    "    fprime : function, optional\n",
    "        The derivative of the function when available and convenient. If it\n",
    "        is None (default), then the secant method is used.\n",
    "    args : tuple, optional\n",
    "        Extra arguments to be used in the function call.\n",
    "    tol : float, optional\n",
    "        The allowable error of the zero value.\n",
    "    maxiter : int, optional\n",
    "        Maximum number of iterations.\n",
    "    fprime2 : function, optional\n",
    "        The second order derivative of the function when available and\n",
    "        convenient. If it is None (default), then the normal Newton-Raphson\n",
    "        or the secant method is used. If it is not None, then Halley's method\n",
    "        is used.\n",
    "\n",
    "    Returns\n",
    "    -------\n",
    "    zero : float\n",
    "        Estimated location where function is zero.\n",
    "\n",
    "    See Also\n",
    "    --------\n",
    "    brentq, brenth, ridder, bisect\n",
    "    fsolve : find zeroes in n dimensions.\n",
    "\n",
    "    Notes\n",
    "    -----\n",
    "    The convergence rate of the Newton-Raphson method is quadratic,\n",
    "    the Halley method is cubic, and the secant method is\n",
    "    sub-quadratic.  This means that if the function is well behaved\n",
    "    the actual error in the estimated zero is approximately the square\n",
    "    (cube for Halley) of the requested tolerance up to roundoff\n",
    "    error. However, the stopping criterion used here is the step size\n",
    "    and there is no guarantee that a zero has been found. Consequently\n",
    "    the result should be verified. Safer algorithms are brentq,\n",
    "    brenth, ridder, and bisect, but they all require that the root\n",
    "    first be bracketed in an interval where the function changes\n",
    "    sign. The brentq algorithm is recommended for general use in one\n",
    "    dimensional problems when such an interval has been found.\n",
    "\n",
    "    Examples\n",
    "    --------\n",
    "\n",
    "    >>> def f(x):\n",
    "    ...     return (x**3 - 1)  # only one real root at x = 1\n",
    "    \n",
    "    >>> from scipy import optimize\n",
    "\n",
    "    ``fprime`` not provided, use secant method\n",
    "    \n",
    "    >>> root = optimize.newton(f, 1.5)\n",
    "    >>> root\n",
    "    1.0000000000000016\n",
    "    >>> root = optimize.newton(f, 1.5, fprime2=lambda x: 6 * x)\n",
    "    >>> root\n",
    "    1.0000000000000016\n",
    "\n",
    "    Only ``fprime`` provided, use Newton Raphson method\n",
    "    \n",
    "    >>> root = optimize.newton(f, 1.5, fprime=lambda x: 3 * x**2)\n",
    "    >>> root\n",
    "    1.0\n",
    "    \n",
    "    Both ``fprime2`` and ``fprime`` provided, use Halley's method\n",
    "\n",
    "    >>> root = optimize.newton(f, 1.5, fprime=lambda x: 3 * x**2,\n",
    "    ...                        fprime2=lambda x: 6 * x)\n",
    "    >>> root\n",
    "    1.0\n",
    "\n",
    "    \"\"\"\n",
    "    if tol <= 0:\n",
    "        raise ValueError(\"tol too small (%g <= 0)\" % tol)\n",
    "    if maxiter < 1:\n",
    "        raise ValueError(\"maxiter must be greater than 0\")\n",
    "    # Multiply by 1.0 to convert to floating point.  We don't use float(x0)\n",
    "    # so it still works if x0 is complex.\n",
    "    p0 = 1.0 * x0\n",
    "    if fprime is not None:\n",
    "        # Newton-Rapheson method\n",
    "        for iter in range(maxiter):\n",
    "            fder = fprime(p0, *args)\n",
    "            if fder == 0:\n",
    "                msg = \"derivative was zero.\"\n",
    "                warnings.warn(msg, RuntimeWarning)\n",
    "                return p0\n",
    "            fval = func(p0, *args)\n",
    "            newton_step = fval / fder\n",
    "            if fprime2 is None:\n",
    "                # Newton step\n",
    "                p = p0 - newton_step\n",
    "            else:\n",
    "                fder2 = fprime2(p0, *args)\n",
    "                # Halley's method\n",
    "                p = p0 - newton_step / (1.0 - 0.5 * newton_step * fder2 / fder)\n",
    "            if abs(p - p0) < tol:\n",
    "                return p\n",
    "            p0 = p\n",
    "    else:\n",
    "        # Secant method\n",
    "        if x0 >= 0:\n",
    "            p1 = x0*(1 + 1e-4) + 1e-4\n",
    "        else:\n",
    "            p1 = x0*(1 + 1e-4) - 1e-4\n",
    "        q0 = func(p0, *args)\n",
    "        q1 = func(p1, *args)\n",
    "        for iter in range(maxiter):\n",
    "            if q1 == q0:\n",
    "                if p1 != p0:\n",
    "                    msg = \"Tolerance of %s reached\" % (p1 - p0)\n",
    "                    warnings.warn(msg, RuntimeWarning)\n",
    "                return (p1 + p0)/2.0\n",
    "            else:\n",
    "                p = p1 - q1*(p1 - p0)/(q1 - q0)\n",
    "            if abs(p - p1) < tol:\n",
    "                return p\n",
    "            p0 = p1\n",
    "            q0 = q1\n",
    "            p1 = p\n",
    "            q1 = func(p1, *args)\n",
    "    msg = \"Failed to converge after %d iterations, value is %s\" % (maxiter, p)\n",
    "    raise RuntimeError(msg)"
   ]
  },
  {
   "cell_type": "code",
   "execution_count": 12,
   "metadata": {},
   "outputs": [],
   "source": [
    "fld, wvl, foc = osp.lookup_fld_wvl_focus(2)"
   ]
  },
  {
   "cell_type": "code",
   "execution_count": 13,
   "metadata": {},
   "outputs": [],
   "source": [
    "fod = ar['parax_data'].fod\n",
    "dist = fod.obj_dist + fod.enp_dist\n",
    "pt0 = osp.obj_coords(fld)"
   ]
  },
  {
   "cell_type": "code",
   "execution_count": 14,
   "metadata": {},
   "outputs": [
    {
     "name": "stderr",
     "output_type": "stream",
     "text": [
      "/opt/miniconda3/envs/ro_usr_312/lib/python3.12/site-packages/rayoptics/elem/profiles.py:436: SyntaxWarning: invalid escape sequence '\\s'\n",
      "  \"\"\" Conic surface profile parameterized by curvature and conic constant.\n",
      "/opt/miniconda3/envs/ro_usr_312/lib/python3.12/site-packages/rayoptics/elem/profiles.py:659: SyntaxWarning: invalid escape sequence '\\s'\n",
      "  \"\"\" Even Polynomial asphere, even terms up to 20th order, on base conic.\n",
      "/opt/miniconda3/envs/ro_usr_312/lib/python3.12/site-packages/rayoptics/elem/profiles.py:868: SyntaxWarning: invalid escape sequence '\\s'\n",
      "  \"\"\" Radial Polynomial asphere, both even and odd terms, on base conic.\n",
      "/opt/miniconda3/envs/ro_usr_312/lib/python3.12/site-packages/rayoptics/elem/profiles.py:1095: SyntaxWarning: invalid escape sequence '\\s'\n",
      "  \"\"\"Y Aspheric toroid, even terms up to 20th order, on base conic.\n",
      "/opt/miniconda3/envs/ro_usr_312/lib/python3.12/site-packages/rayoptics/elem/profiles.py:1351: SyntaxWarning: invalid escape sequence '\\s'\n",
      "  \"\"\"X Aspheric toroid, even terms up to 20th order, on base conic.\n"
     ]
    },
    {
     "ename": "AttributeError",
     "evalue": "'tuple' object has no attribute 'dot'",
     "output_type": "error",
     "traceback": [
      "\u001b[0;31m---------------------------------------------------------------------------\u001b[0m",
      "\u001b[0;31mAttributeError\u001b[0m                            Traceback (most recent call last)",
      "Cell \u001b[0;32mIn[14], line 3\u001b[0m\n\u001b[1;32m      1\u001b[0m \u001b[38;5;66;03m#res = newton(y_stop_coordinate, 0.)\u001b[39;00m\n\u001b[1;32m      2\u001b[0m y_target \u001b[38;5;241m=\u001b[39m \u001b[38;5;241m0.\u001b[39m\n\u001b[0;32m----> 3\u001b[0m start_y \u001b[38;5;241m=\u001b[39m \u001b[43mnewton\u001b[49m\u001b[43m(\u001b[49m\u001b[43my_stop_coordinate\u001b[49m\u001b[43m,\u001b[49m\u001b[43m \u001b[49m\u001b[38;5;241;43m0.\u001b[39;49m\u001b[43m,\u001b[49m\n\u001b[1;32m      4\u001b[0m \u001b[43m                 \u001b[49m\u001b[43margs\u001b[49m\u001b[38;5;241;43m=\u001b[39;49m\u001b[43m(\u001b[49m\u001b[43msm\u001b[49m\u001b[43m,\u001b[49m\u001b[43m \u001b[49m\u001b[43mstop\u001b[49m\u001b[43m,\u001b[49m\u001b[43m \u001b[49m\u001b[43mpt0\u001b[49m\u001b[43m,\u001b[49m\u001b[43m \u001b[49m\u001b[43mdist\u001b[49m\u001b[43m,\u001b[49m\u001b[43m \u001b[49m\u001b[43mwvl\u001b[49m\u001b[43m,\u001b[49m\u001b[43m \u001b[49m\u001b[43my_target\u001b[49m\u001b[43m)\u001b[49m\u001b[43m)\u001b[49m\n",
      "File \u001b[0;32m/opt/miniconda3/envs/ro_usr_312/lib/python3.12/site-packages/scipy/optimize/_zeros_py.py:356\u001b[0m, in \u001b[0;36mnewton\u001b[0;34m(func, x0, fprime, args, tol, maxiter, fprime2, x1, rtol, full_output, disp)\u001b[0m\n\u001b[1;32m    354\u001b[0m     p1 \u001b[38;5;241m=\u001b[39m x0 \u001b[38;5;241m*\u001b[39m (\u001b[38;5;241m1\u001b[39m \u001b[38;5;241m+\u001b[39m eps)\n\u001b[1;32m    355\u001b[0m     p1 \u001b[38;5;241m+\u001b[39m\u001b[38;5;241m=\u001b[39m (eps \u001b[38;5;28;01mif\u001b[39;00m p1 \u001b[38;5;241m>\u001b[39m\u001b[38;5;241m=\u001b[39m \u001b[38;5;241m0\u001b[39m \u001b[38;5;28;01melse\u001b[39;00m \u001b[38;5;241m-\u001b[39meps)\n\u001b[0;32m--> 356\u001b[0m q0 \u001b[38;5;241m=\u001b[39m \u001b[43mfunc\u001b[49m\u001b[43m(\u001b[49m\u001b[43mp0\u001b[49m\u001b[43m,\u001b[49m\u001b[43m \u001b[49m\u001b[38;5;241;43m*\u001b[39;49m\u001b[43margs\u001b[49m\u001b[43m)\u001b[49m\n\u001b[1;32m    357\u001b[0m funcalls \u001b[38;5;241m+\u001b[39m\u001b[38;5;241m=\u001b[39m \u001b[38;5;241m1\u001b[39m\n\u001b[1;32m    358\u001b[0m q1 \u001b[38;5;241m=\u001b[39m func(p1, \u001b[38;5;241m*\u001b[39margs)\n",
      "Cell \u001b[0;32mIn[10], line 7\u001b[0m, in \u001b[0;36my_stop_coordinate\u001b[0;34m(y1, *args)\u001b[0m\n\u001b[1;32m      5\u001b[0m length \u001b[38;5;241m=\u001b[39m norm(dir0)\n\u001b[1;32m      6\u001b[0m dir0 \u001b[38;5;241m=\u001b[39m dir0\u001b[38;5;241m/\u001b[39mlength\n\u001b[0;32m----> 7\u001b[0m ray, _, _ \u001b[38;5;241m=\u001b[39m \u001b[43mrt\u001b[49m\u001b[38;5;241;43m.\u001b[39;49m\u001b[43mtrace\u001b[49m\u001b[43m(\u001b[49m\u001b[43mseq_model\u001b[49m\u001b[43m,\u001b[49m\u001b[43m \u001b[49m\u001b[43mpt0\u001b[49m\u001b[43m,\u001b[49m\u001b[43m \u001b[49m\u001b[43mdir0\u001b[49m\u001b[43m,\u001b[49m\u001b[43m \u001b[49m\u001b[43mwvl\u001b[49m\u001b[43m)\u001b[49m\n\u001b[1;32m      8\u001b[0m y_ray \u001b[38;5;241m=\u001b[39m ray[ifcx][mc\u001b[38;5;241m.\u001b[39mp][\u001b[38;5;241m1\u001b[39m]\n\u001b[1;32m      9\u001b[0m \u001b[38;5;28mprint\u001b[39m(y1, y_ray)\n",
      "File \u001b[0;32m/opt/miniconda3/envs/ro_usr_312/lib/python3.12/site-packages/rayoptics/raytr/raytrace.py:80\u001b[0m, in \u001b[0;36mtrace\u001b[0;34m(seq_model, pt0, dir0, wvl, **kwargs)\u001b[0m\n\u001b[1;32m     77\u001b[0m kwargs[\u001b[38;5;124m'\u001b[39m\u001b[38;5;124mfirst_surf\u001b[39m\u001b[38;5;124m'\u001b[39m] \u001b[38;5;241m=\u001b[39m kwargs\u001b[38;5;241m.\u001b[39mget(\u001b[38;5;124m'\u001b[39m\u001b[38;5;124mfirst_surf\u001b[39m\u001b[38;5;124m'\u001b[39m, \u001b[38;5;241m1\u001b[39m)\n\u001b[1;32m     78\u001b[0m kwargs[\u001b[38;5;124m'\u001b[39m\u001b[38;5;124mlast_surf\u001b[39m\u001b[38;5;124m'\u001b[39m] \u001b[38;5;241m=\u001b[39m kwargs\u001b[38;5;241m.\u001b[39mget(\u001b[38;5;124m'\u001b[39m\u001b[38;5;124mlast_surf\u001b[39m\u001b[38;5;124m'\u001b[39m,\n\u001b[1;32m     79\u001b[0m                                  seq_model\u001b[38;5;241m.\u001b[39mget_num_surfaces()\u001b[38;5;241m-\u001b[39m\u001b[38;5;241m2\u001b[39m)\n\u001b[0;32m---> 80\u001b[0m \u001b[38;5;28;01mreturn\u001b[39;00m \u001b[43mtrace_raw\u001b[49m\u001b[43m(\u001b[49m\u001b[43mpath\u001b[49m\u001b[43m,\u001b[49m\u001b[43m \u001b[49m\u001b[43mpt0\u001b[49m\u001b[43m,\u001b[49m\u001b[43m \u001b[49m\u001b[43mdir0\u001b[49m\u001b[43m,\u001b[49m\u001b[43m \u001b[49m\u001b[43mwvl\u001b[49m\u001b[43m,\u001b[49m\u001b[43m \u001b[49m\u001b[38;5;241;43m*\u001b[39;49m\u001b[38;5;241;43m*\u001b[39;49m\u001b[43mkwargs\u001b[49m\u001b[43m)\u001b[49m\n",
      "File \u001b[0;32m/opt/miniconda3/envs/ro_usr_312/lib/python3.12/site-packages/rayoptics/raytr/raytrace.py:147\u001b[0m, in \u001b[0;36mtrace_raw\u001b[0;34m(path, pt0, dir0, wvl, eps, check_apertures, intersect_obj, **kwargs)\u001b[0m\n\u001b[1;32m    145\u001b[0m \u001b[38;5;28;01mif\u001b[39;00m intersect_obj:\n\u001b[1;32m    146\u001b[0m     srf_obj \u001b[38;5;241m=\u001b[39m obj[mc\u001b[38;5;241m.\u001b[39mIntfc]\n\u001b[0;32m--> 147\u001b[0m     _, before_pt \u001b[38;5;241m=\u001b[39m \u001b[43msrf_obj\u001b[49m\u001b[38;5;241;43m.\u001b[39;49m\u001b[43mintersect\u001b[49m\u001b[43m(\u001b[49m\u001b[43mpt0\u001b[49m\u001b[43m,\u001b[49m\u001b[43m \u001b[49m\u001b[43mdir0\u001b[49m\u001b[43m,\u001b[49m\u001b[43m \u001b[49m\u001b[43mz_dir\u001b[49m\u001b[38;5;241;43m=\u001b[39;49m\u001b[43mobj\u001b[49m\u001b[43m[\u001b[49m\u001b[43mmc\u001b[49m\u001b[38;5;241;43m.\u001b[39;49m\u001b[43mZdir\u001b[49m\u001b[43m]\u001b[49m\u001b[43m)\u001b[49m\n\u001b[1;32m    148\u001b[0m     before_normal \u001b[38;5;241m=\u001b[39m srf_obj\u001b[38;5;241m.\u001b[39mnormal(before_pt)\n\u001b[1;32m    149\u001b[0m \u001b[38;5;28;01melse\u001b[39;00m:\n",
      "File \u001b[0;32m/opt/miniconda3/envs/ro_usr_312/lib/python3.12/site-packages/rayoptics/elem/surface.py:266\u001b[0m, in \u001b[0;36mSurface.intersect\u001b[0;34m(self, p0, d, eps, z_dir)\u001b[0m\n\u001b[1;32m    265\u001b[0m \u001b[38;5;28;01mdef\u001b[39;00m \u001b[38;5;21mintersect\u001b[39m(\u001b[38;5;28mself\u001b[39m, p0, d, eps\u001b[38;5;241m=\u001b[39m\u001b[38;5;241m1.0e-12\u001b[39m, z_dir\u001b[38;5;241m=\u001b[39m\u001b[38;5;241m1.0\u001b[39m):\n\u001b[0;32m--> 266\u001b[0m     \u001b[38;5;28;01mreturn\u001b[39;00m \u001b[38;5;28;43mself\u001b[39;49m\u001b[38;5;241;43m.\u001b[39;49m\u001b[43mprofile\u001b[49m\u001b[38;5;241;43m.\u001b[39;49m\u001b[43mintersect\u001b[49m\u001b[43m(\u001b[49m\u001b[43mp0\u001b[49m\u001b[43m,\u001b[49m\u001b[43m \u001b[49m\u001b[43md\u001b[49m\u001b[43m,\u001b[49m\u001b[43m \u001b[49m\u001b[43meps\u001b[49m\u001b[43m,\u001b[49m\u001b[43m \u001b[49m\u001b[43mz_dir\u001b[49m\u001b[43m)\u001b[49m\n",
      "File \u001b[0;32m/opt/miniconda3/envs/ro_usr_312/lib/python3.12/site-packages/rayoptics/elem/profiles.py:319\u001b[0m, in \u001b[0;36mSpherical.intersect\u001b[0;34m(self, p, d, eps, z_dir)\u001b[0m\n\u001b[1;32m    313\u001b[0m \u001b[38;5;66;03m#        return super().intersect(p, d, eps, z_dir)\u001b[39;00m\n\u001b[1;32m    314\u001b[0m         \u001b[38;5;66;03m# Substitute expressions equivalent to Welford's 4.8 and 4.9\u001b[39;00m\n\u001b[1;32m    315\u001b[0m         \u001b[38;5;66;03m# For quadratic equation ax**2 + bx + c = 0:\u001b[39;00m\n\u001b[1;32m    316\u001b[0m         \u001b[38;5;66;03m#  ax2 = 2a\u001b[39;00m\n\u001b[1;32m    317\u001b[0m         \u001b[38;5;66;03m#  cx2 = 2c\u001b[39;00m\n\u001b[1;32m    318\u001b[0m         ax2 \u001b[38;5;241m=\u001b[39m \u001b[38;5;28mself\u001b[39m\u001b[38;5;241m.\u001b[39mcv\n\u001b[0;32m--> 319\u001b[0m         cx2 \u001b[38;5;241m=\u001b[39m \u001b[38;5;28mself\u001b[39m\u001b[38;5;241m.\u001b[39mcv \u001b[38;5;241m*\u001b[39m \u001b[43mp\u001b[49m\u001b[38;5;241;43m.\u001b[39;49m\u001b[43mdot\u001b[49m(p) \u001b[38;5;241m-\u001b[39m \u001b[38;5;241m2\u001b[39m\u001b[38;5;241m*\u001b[39mp[\u001b[38;5;241m2\u001b[39m]\n\u001b[1;32m    320\u001b[0m         b \u001b[38;5;241m=\u001b[39m \u001b[38;5;28mself\u001b[39m\u001b[38;5;241m.\u001b[39mcv \u001b[38;5;241m*\u001b[39m d\u001b[38;5;241m.\u001b[39mdot(p) \u001b[38;5;241m-\u001b[39m d[\u001b[38;5;241m2\u001b[39m]\n\u001b[1;32m    321\u001b[0m         \u001b[38;5;28;01mtry\u001b[39;00m:\n\u001b[1;32m    322\u001b[0m             \u001b[38;5;66;03m# Use z_dir to pick correct root\u001b[39;00m\n",
      "\u001b[0;31mAttributeError\u001b[0m: 'tuple' object has no attribute 'dot'"
     ]
    }
   ],
   "source": [
    "#res = newton(y_stop_coordinate, 0.)\n",
    "y_target = 0.\n",
    "start_y = newton(y_stop_coordinate, 0.,\n",
    "                 args=(sm, stop, pt0, dist, wvl, y_target))"
   ]
  },
  {
   "cell_type": "code",
   "execution_count": null,
   "metadata": {},
   "outputs": [],
   "source": [
    "#res = fsolve(surface_coordinate, np.array([0., 0.]),\n",
    "#             args=(sm, sm.stop_surface, sm.central_wavelength(), np.array([0., 0.])))\n",
    "xy_target = np.array([0., 0.])\n",
    "start_coords = fsolve(surface_coordinate, np.array([0., 0.]),\n",
    "                      epsfcn=0.0001*fod.enp_radius,\n",
    "                      args=(sm, stop, pt0, dist, wvl, xy_target))"
   ]
  },
  {
   "cell_type": "code",
   "execution_count": null,
   "metadata": {},
   "outputs": [],
   "source": [
    "start_coords"
   ]
  },
  {
   "cell_type": "code",
   "execution_count": null,
   "metadata": {},
   "outputs": [],
   "source": [
    "aim_pt = trace.iterate_ray(opm, sm.stop_surface, np.array([0., 0.]), fld, wvl)"
   ]
  },
  {
   "cell_type": "code",
   "execution_count": null,
   "metadata": {},
   "outputs": [],
   "source": [
    "print(start_coords, aim_pt, start_coords[1]-aim_pt[1])"
   ]
  },
  {
   "cell_type": "code",
   "execution_count": null,
   "metadata": {},
   "outputs": [],
   "source": []
  }
 ],
 "metadata": {
  "kernelspec": {
   "display_name": "Python 3 (ipykernel)",
   "language": "python",
   "name": "python3"
  },
  "language_info": {
   "codemirror_mode": {
    "name": "ipython",
    "version": 3
   },
   "file_extension": ".py",
   "mimetype": "text/x-python",
   "name": "python",
   "nbconvert_exporter": "python",
   "pygments_lexer": "ipython3",
   "version": "3.12.8"
  }
 },
 "nbformat": 4,
 "nbformat_minor": 4
}
