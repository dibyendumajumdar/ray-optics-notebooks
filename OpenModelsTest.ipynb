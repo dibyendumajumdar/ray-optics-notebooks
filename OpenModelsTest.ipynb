{
 "cells": [
  {
   "cell_type": "markdown",
   "metadata": {},
   "source": [
    "# test all models to ensure they at least can be read without crashing"
   ]
  },
  {
   "cell_type": "code",
   "execution_count": 1,
   "metadata": {},
   "outputs": [],
   "source": [
    "%matplotlib inline"
   ]
  },
  {
   "cell_type": "code",
   "execution_count": 2,
   "metadata": {},
   "outputs": [],
   "source": [
    "# initialization\n",
    "from rayoptics.environment import *"
   ]
  },
  {
   "cell_type": "code",
   "execution_count": 3,
   "metadata": {},
   "outputs": [],
   "source": [
    "root_pth = Path(rayoptics.__file__).resolve().parent"
   ]
  },
  {
   "cell_type": "code",
   "execution_count": 4,
   "metadata": {},
   "outputs": [
    {
     "name": "stdout",
     "output_type": "stream",
     "text": [
      "ray-optics version: 0.9.8.post1.dev2+gc0ce362\n",
      "rayoptics version=0.9.8.post1.dev2+gc0ce362\n"
     ]
    }
   ],
   "source": [
    "opm = OpticalModel()\n",
    "print(f\"ray-optics version: {opm.ro_version}\")\n",
    "print(f\"rayoptics version={rayoptics.__version__}\")"
   ]
  },
  {
   "cell_type": "markdown",
   "metadata": {},
   "source": [
    "## examples in the models subdirectory"
   ]
  },
  {
   "cell_type": "code",
   "execution_count": 5,
   "metadata": {},
   "outputs": [
    {
     "data": {
      "text/plain": [
       "<rayoptics.optical.opticalmodel.OpticalModel at 0x157bd86b0>"
      ]
     },
     "execution_count": 5,
     "metadata": {},
     "output_type": "execute_result"
    }
   ],
   "source": [
    "open_model(root_pth / \"models/Cassegrain.roa\")\n",
    "open_model(root_pth / \"models/Dall_Kirkham.roa\")\n",
    "open_model(root_pth / \"models/HybridAchromat.roa\")\n",
    "open_model(root_pth / \"models/Ritchey_Chretien.roa\")\n",
    "open_model(root_pth / \"models/Sasian Triplet.roa\")\n",
    "open_model(root_pth / \"models/TwoMirror.roa\")\n",
    "open_model(root_pth / \"models/TwoSphericalMirror.roa\")\n",
    "open_model(root_pth / \"models/double2frelay.roa\")\n",
    "open_model(root_pth / \"models/galilean.roa\")\n",
    "open_model(root_pth / \"models/petzval.roa\")\n",
    "open_model(root_pth / \"models/singlet_f5.roa\")\n",
    "open_model(root_pth / \"models/thinlens.roa\")\n",
    "open_model(root_pth / \"models/thin_triplet.roa\")"
   ]
  },
  {
   "cell_type": "markdown",
   "metadata": {},
   "source": [
    "## Zemax models"
   ]
  },
  {
   "cell_type": "code",
   "execution_count": 6,
   "metadata": {},
   "outputs": [
    {
     "data": {
      "text/plain": [
       "<rayoptics.optical.opticalmodel.OpticalModel at 0x158b8ef00>"
      ]
     },
     "execution_count": 6,
     "metadata": {},
     "output_type": "execute_result"
    }
   ],
   "source": [
    "open_model(root_pth / \"zemax/tests/HoO-V2C18Ex03.zmx\")\n",
    "open_model(root_pth / \"zemax/tests/HoO-V2C18Ex27.zmx\")\n",
    "open_model(root_pth / \"zemax/tests/HoO-V2C18Ex66.zmx\")\n",
    "open_model(root_pth / \"zemax/tests/US00583336-2-scaled.zmx\")\n",
    "open_model(root_pth / \"zemax/tests/US08427765-1.ZMX\")\n",
    "open_model(root_pth / \"zemax/tests/US05831776-1.zmx\")\n",
    "open_model(root_pth / \"zemax/tests/354710-C-Zemax(ZMX).zmx\")"
   ]
  },
  {
   "cell_type": "markdown",
   "metadata": {},
   "source": [
    "## CODE V models"
   ]
  },
  {
   "cell_type": "code",
   "execution_count": 7,
   "metadata": {},
   "outputs": [
    {
     "data": {
      "text/plain": [
       "<rayoptics.optical.opticalmodel.OpticalModel at 0x1580d3d70>"
      ]
     },
     "execution_count": 7,
     "metadata": {},
     "output_type": "execute_result"
    }
   ],
   "source": [
    "open_model(root_pth / \"codev/tests/CODV_32327.seq\")\n",
    "open_model(root_pth / \"codev/tests/CODV_35571.seq\")\n",
    "open_model(root_pth / \"codev/tests/CODV_49664.seq\")\n",
    "open_model(root_pth / \"codev/tests/CODV_65564.seq\")\n",
    "open_model(root_pth / \"codev/tests/CODV_65988.seq\")\n",
    "open_model(root_pth / \"codev/tests/CODV_65988_noDOE.seq\")\n",
    "open_model(root_pth / \"codev/tests/ag_dblgauss.seq\")\n",
    "open_model(root_pth / \"codev/tests/asp46.seq\")\n",
    "open_model(root_pth / \"codev/tests/dar_test.seq\")\n",
    "open_model(root_pth / \"codev/tests/dec_rev_tilt_test.seq\")\n",
    "open_model(root_pth / \"codev/tests/dec_test.seq\")\n",
    "open_model(root_pth / \"codev/tests/dec_tilt_test.seq\")\n",
    "open_model(root_pth / \"codev/tests/folded_lenses.seq\")\n",
    "open_model(root_pth / \"codev/tests/landscape_lens.seq\")\n",
    "open_model(root_pth / \"codev/tests/lens_reflection_test.seq\")\n",
    "open_model(root_pth / \"codev/tests/mangin.seq\")\n",
    "open_model(root_pth / \"codev/tests/paraboloid.seq\")\n",
    "open_model(root_pth / \"codev/tests/paraboloid_f8.seq\")\n",
    "open_model(root_pth / \"codev/tests/questar35.seq\")\n",
    "open_model(root_pth / \"codev/tests/rc_f16.seq\")\n",
    "open_model(root_pth / \"codev/tests/schmidt.seq\")\n",
    "open_model(root_pth / \"codev/tests/schmidt_sph.seq\")\n",
    "open_model(root_pth / \"codev/tests/singlet.seq\")\n",
    "open_model(root_pth / \"codev/tests/test.seq\")\n",
    "open_model(root_pth / \"codev/tests/threemir.seq\")\n",
    "open_model(root_pth / \"codev/tests/tilt_test.seq\")\n",
    "open_model(root_pth / \"codev/tests/unfolded_lenses_w_ape.seq\")"
   ]
  },
  {
   "cell_type": "markdown",
   "metadata": {},
   "source": [
    "## optical package tests"
   ]
  },
  {
   "cell_type": "code",
   "execution_count": 8,
   "metadata": {},
   "outputs": [
    {
     "data": {
      "text/plain": [
       "<rayoptics.optical.opticalmodel.OpticalModel at 0x15ddfd1f0>"
      ]
     },
     "execution_count": 8,
     "metadata": {},
     "output_type": "execute_result"
    }
   ],
   "source": [
    "open_model(root_pth / \"optical/tests/cell_phone_camera.roa\")\n",
    "open_model(root_pth / \"optical/tests/singlet_f3.roa\")"
   ]
  },
  {
   "cell_type": "markdown",
   "metadata": {},
   "source": [
    "## OpticalBench import"
   ]
  },
  {
   "cell_type": "code",
   "execution_count": 9,
   "metadata": {},
   "outputs": [],
   "source": [
    "file_url = 'https://www.photonstophotos.net/GeneralTopics/Lenses/OpticalBench/OpticalBench.htm#'"
   ]
  },
  {
   "cell_type": "code",
   "execution_count": 10,
   "metadata": {},
   "outputs": [
    {
     "data": {
      "text/plain": [
       "<rayoptics.optical.opticalmodel.OpticalModel at 0x15ddfeea0>"
      ]
     },
     "execution_count": 10,
     "metadata": {},
     "output_type": "execute_result"
    }
   ],
   "source": [
    "open_model(file_url+'Data/US20200326504_Example10.txt,AxisO')"
   ]
  },
  {
   "cell_type": "code",
   "execution_count": null,
   "metadata": {},
   "outputs": [],
   "source": []
  },
  {
   "cell_type": "code",
   "execution_count": null,
   "metadata": {},
   "outputs": [],
   "source": []
  }
 ],
 "metadata": {
  "kernelspec": {
   "display_name": "Python 3 (ipykernel)",
   "language": "python",
   "name": "python3"
  },
  "language_info": {
   "codemirror_mode": {
    "name": "ipython",
    "version": 3
   },
   "file_extension": ".py",
   "mimetype": "text/x-python",
   "name": "python",
   "nbconvert_exporter": "python",
   "pygments_lexer": "ipython3",
   "version": "3.12.11"
  }
 },
 "nbformat": 4,
 "nbformat_minor": 4
}
